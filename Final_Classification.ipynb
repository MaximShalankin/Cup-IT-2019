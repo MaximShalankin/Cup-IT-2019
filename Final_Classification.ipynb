{
 "cells": [
  {
   "cell_type": "markdown",
   "metadata": {},
   "source": [
    "### Импортируем библиотеки"
   ]
  },
  {
   "cell_type": "code",
   "execution_count": 1,
   "metadata": {},
   "outputs": [],
   "source": [
    "import numpy as np\n",
    "import pandas as pd\n",
    "from sklearn.model_selection import cross_val_score\n",
    "from sklearn.model_selection import StratifiedKFold, KFold\n",
    "from sklearn.feature_extraction.text import TfidfVectorizer\n",
    "from sklearn.linear_model import LogisticRegression\n",
    "from sklearn.model_selection import GridSearchCV\n",
    "from nltk.corpus import stopwords"
   ]
  },
  {
   "cell_type": "code",
   "execution_count": 3,
   "metadata": {},
   "outputs": [],
   "source": [
    "# Считываем обучающую и тестовую выборки\n",
    "train = pd.read_csv('train_data.csv', encoding='utf', engine='python', index_col=0)\n",
    "test = pd.read_csv('test_data.csv', encoding='utf', engine='python', index_col=0)\n",
    "# Объеденим заголовки и текст в одну переменную\n",
    "train_sentences = train.title.values + ' ' + train.text.values\n",
    "test_sentences = test.title.values + ' ' + test.text.values"
   ]
  },
  {
   "cell_type": "markdown",
   "metadata": {},
   "source": [
    "### tf_idf модель"
   ]
  },
  {
   "cell_type": "code",
   "execution_count": 2,
   "metadata": {},
   "outputs": [],
   "source": [
    "# можно ещё попробовать удалить все цифры\n",
    "import nltk\n",
    "import string\n",
    "from nltk.corpus import stopwords\n",
    "import pymorphy2\n",
    " \n",
    "def tokenize_best(file_text):\n",
    "    morph = pymorphy2.MorphAnalyzer()\n",
    "    #Разделим на токены\n",
    "    tokens = nltk.word_tokenize(file_text)\n",
    " \n",
    "    #Удалим пунктуацию и символы\n",
    "    tokens = [i for i in tokens if ( i not in string.punctuation )]\n",
    " \n",
    "    #Удаляем стоп-слова\n",
    "    stop_words = stopwords.words('russian')\n",
    "    stop_words.extend(['что', 'это', 'так', 'вот', 'быть', 'как', 'в', '—', 'к', 'на'])\n",
    "    tokens = [i for i in tokens if ( i not in stop_words )]\n",
    " \n",
    "    #удаляем кавычки\n",
    "    tokens = [i.replace(\"«\", \"\").replace(\"»\", \"\") for i in tokens]\n",
    "    \n",
    "    # Лемматизация\n",
    "    tokens = [morph.parse(i)[0].normal_form for i in tokens]\n",
    "    \n",
    "    # удаление '' символов\n",
    "    tokens = [i for i in tokens if ( i !='' )]\n",
    "    return tokens"
   ]
  },
  {
   "cell_type": "code",
   "execution_count": 4,
   "metadata": {},
   "outputs": [],
   "source": [
    "# Задаём параметры tf-idf и указываем нашу функцию токенизации!\n",
    "tf_idf2 = TfidfVectorizer(ngram_range=(1, 3),\n",
    "    max_df=0.8,\n",
    "    min_df=10,\n",
    "    analyzer='word',\n",
    "    tokenizer=tokenize_best,\n",
    "    token_pattern=None)  "
   ]
  },
  {
   "cell_type": "code",
   "execution_count": 5,
   "metadata": {},
   "outputs": [],
   "source": [
    "# Для сохранения обученной модели\n",
    "import pickle\n",
    "import time"
   ]
  },
  {
   "cell_type": "code",
   "execution_count": 6,
   "metadata": {},
   "outputs": [
    {
     "name": "stdout",
     "output_type": "stream",
     "text": [
      "15.46509609222412\n",
      "Wall time: 15min 27s\n"
     ]
    }
   ],
   "source": [
    "%%time\n",
    "s_time = time.time()\n",
    "tf_idf_model = tf_idf2.fit(np.concatenate([train_sentences, test_sentences]))\n",
    "print((time.time() - s_time)/60.)\n",
    "# 15min 25s"
   ]
  },
  {
   "cell_type": "code",
   "execution_count": 7,
   "metadata": {},
   "outputs": [],
   "source": [
    "# сохраним модель, чтобы не обучать постоянно\n",
    "pickle.dump(tf_idf_model, open(\"tfidf.final.pickle\", \"wb\"))"
   ]
  },
  {
   "cell_type": "code",
   "execution_count": 8,
   "metadata": {},
   "outputs": [
    {
     "name": "stdout",
     "output_type": "stream",
     "text": [
      "Wall time: 15min 49s\n"
     ]
    }
   ],
   "source": [
    "%%time\n",
    "train_features = tf_idf_model.transform(train_sentences)\n",
    "test_features = tf_idf_model.transform(test_sentences)"
   ]
  },
  {
   "cell_type": "code",
   "execution_count": 9,
   "metadata": {},
   "outputs": [],
   "source": [
    "# Сохраним наши признаки тоже\n",
    "pickle.dump(train_features, open(\"train_features.final.pickle\", \"wb\"))\n",
    "pickle.dump(test_features, open(\"test_features.final.pickle\", \"wb\"))"
   ]
  },
  {
   "cell_type": "markdown",
   "metadata": {},
   "source": [
    "### Настройка и обучение Логистической Регрессии"
   ]
  },
  {
   "cell_type": "code",
   "execution_count": 10,
   "metadata": {},
   "outputs": [],
   "source": [
    "lm = LogisticRegression(n_jobs=-1,\n",
    "                        penalty='l2',\n",
    "                        tol=0.000000001,\n",
    "                        random_state=42,\n",
    "                        C=10, \n",
    "                        max_iter=100000)"
   ]
  },
  {
   "cell_type": "code",
   "execution_count": 11,
   "metadata": {},
   "outputs": [],
   "source": [
    "lm_params = {'solver':['lbfgs'],\n",
    "             'C':[0.001, 0.01, 0.1, 1, 2, 5, 10, 20, 100],\n",
    "             'tol' : [10, 1, 0.1, 0.01, 0.001, 0.0001, 0.0001]   \n",
    "}\n",
    "lm_search = GridSearchCV(estimator=lm, \n",
    "                         param_grid=lm_params, \n",
    "                         scoring ='accuracy', \n",
    "                         cv=StratifiedKFold(10), \n",
    "                         n_jobs=-1,\n",
    "                         verbose=1)"
   ]
  },
  {
   "cell_type": "code",
   "execution_count": 12,
   "metadata": {},
   "outputs": [
    {
     "name": "stdout",
     "output_type": "stream",
     "text": [
      "Fitting 10 folds for each of 63 candidates, totalling 630 fits\n"
     ]
    },
    {
     "name": "stderr",
     "output_type": "stream",
     "text": [
      "[Parallel(n_jobs=-1)]: Using backend LokyBackend with 8 concurrent workers.\n",
      "[Parallel(n_jobs=-1)]: Done  34 tasks      | elapsed:    9.5s\n",
      "[Parallel(n_jobs=-1)]: Done 184 tasks      | elapsed:   55.4s\n",
      "[Parallel(n_jobs=-1)]: Done 434 tasks      | elapsed:  5.4min\n",
      "[Parallel(n_jobs=-1)]: Done 630 out of 630 | elapsed: 12.6min finished\n",
      "D:\\Python_storage\\lib\\site-packages\\sklearn\\linear_model\\logistic.py:460: FutureWarning: Default multi_class will be changed to 'auto' in 0.22. Specify the multi_class option to silence this warning.\n",
      "  \"this warning.\", FutureWarning)\n"
     ]
    },
    {
     "name": "stdout",
     "output_type": "stream",
     "text": [
      "0.7145667140203257\n",
      "Wall time: 12min 35s\n"
     ]
    }
   ],
   "source": [
    "%%time\n",
    "lm_search_fitted = lm_search.fit(X=train_features, y=pd.factorize(train.type)[0])\n",
    "print(lm_search_fitted.best_score_)"
   ]
  },
  {
   "cell_type": "markdown",
   "metadata": {},
   "source": [
    "### Делаем предсказание и сохраняем результат"
   ]
  },
  {
   "cell_type": "code",
   "execution_count": 13,
   "metadata": {},
   "outputs": [],
   "source": [
    "predicts = lm_search_fitted.best_estimator_.predict(test_features)\n",
    "predicts_names = pd.factorize(train.type)[1][predicts]"
   ]
  },
  {
   "cell_type": "code",
   "execution_count": 14,
   "metadata": {},
   "outputs": [],
   "source": [
    "sub = pd.DataFrame({'index': range(0, len(predicts)),\n",
    "                    'type': predicts_names})\n",
    "sub.to_csv('sub2.csv', index=False)"
   ]
  }
 ],
 "metadata": {
  "kernelspec": {
   "display_name": "Python 3",
   "language": "python",
   "name": "python3"
  },
  "language_info": {
   "codemirror_mode": {
    "name": "ipython",
    "version": 3
   },
   "file_extension": ".py",
   "mimetype": "text/x-python",
   "name": "python",
   "nbconvert_exporter": "python",
   "pygments_lexer": "ipython3",
   "version": "3.6.8"
  }
 },
 "nbformat": 4,
 "nbformat_minor": 2
}
