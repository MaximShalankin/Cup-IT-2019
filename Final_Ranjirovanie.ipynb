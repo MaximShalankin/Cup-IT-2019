{
 "cells": [
  {
   "cell_type": "markdown",
   "metadata": {
    "_uuid": "2d894e5d4f29f38f4af3f589dff65048907066a6"
   },
   "source": [
    "Импортируем библиотеки"
   ]
  },
  {
   "cell_type": "code",
   "execution_count": 1,
   "metadata": {
    "_cell_guid": "79c7e3d0-c299-4dcb-8224-4455121ee9b0",
    "_uuid": "d629ff2d2480ee46fbb7e2d37f6b5fab8052498a"
   },
   "outputs": [],
   "source": [
    "import numpy as np\n",
    "import pandas as pd\n",
    "from sklearn.model_selection import cross_val_score\n",
    "from sklearn.model_selection import StratifiedKFold, KFold\n",
    "from sklearn.feature_extraction.text import TfidfVectorizer\n",
    "from sklearn.linear_model import LogisticRegression\n",
    "from sklearn.model_selection import GridSearchCV"
   ]
  },
  {
   "cell_type": "code",
   "execution_count": null,
   "metadata": {},
   "outputs": [],
   "source": [
    "import nltk\n",
    "import string\n",
    "from nltk.corpus import stopwords\n",
    "import pymorphy2\n",
    "import pickle"
   ]
  },
  {
   "cell_type": "markdown",
   "metadata": {
    "_uuid": "d0e830f4dc8c9b6fe5db990d3b0c9e01ebb4c72b"
   },
   "source": [
    "Подгрузим данные"
   ]
  },
  {
   "cell_type": "code",
   "execution_count": 2,
   "metadata": {},
   "outputs": [],
   "source": [
    "# Считываем обучающую и тестовую выборки\n",
    "train = pd.read_csv('train_data.csv', encoding='utf', engine='python', index_col=0)\n",
    "test = pd.read_csv('test_data.csv', encoding='utf', engine='python', index_col=0)\n",
    "# Объеденим заголовки и текст в одну переменную\n",
    "train_sentences = train.title.values + ' ' + train.text.values\n",
    "test_sentences = test.title.values + ' ' + test.text.values"
   ]
  },
  {
   "cell_type": "markdown",
   "metadata": {
    "_uuid": "2034d759fd1e6150d2247bd87abc902cff50dc51"
   },
   "source": [
    "# tf_idf модель"
   ]
  },
  {
   "cell_type": "markdown",
   "metadata": {
    "_uuid": "ab4e6a4f3babfb3c65d5b7ea6822e1a8d4e09d19"
   },
   "source": [
    "Инициализируем tf_idf модель"
   ]
  },
  {
   "cell_type": "markdown",
   "metadata": {},
   "source": [
    "Будем использовать настраиваемый токенайзер-функцию"
   ]
  },
  {
   "cell_type": "code",
   "execution_count": 4,
   "metadata": {},
   "outputs": [],
   "source": [
    "#Свой токенайзер\n",
    "def tokenize_best(file_text):\n",
    "    morph = pymorphy2.MorphAnalyzer()\n",
    "    #Разделим на токены\n",
    "    tokens = nltk.word_tokenize(file_text)\n",
    " \n",
    "    #Удалим пунктуацию и символы\n",
    "    tokens = [i for i in tokens if ( i not in string.punctuation )]\n",
    " \n",
    "    #Удаляем стоп-слова\n",
    "    stop_words = stopwords.words('russian')\n",
    "    stop_words.extend(['что', 'это', 'так', 'вот', 'быть', 'как', 'в', '—', 'к', 'на'])\n",
    "    tokens = [i for i in tokens if ( i not in stop_words )]\n",
    " \n",
    "    #удаляем кавычки\n",
    "    tokens = [i.replace(\"«\", \"\").replace(\"»\", \"\") for i in tokens]\n",
    "    \n",
    "    # Лемматизация\n",
    "    tokens = [morph.parse(i)[0].normal_form for i in tokens]\n",
    "    \n",
    "    # удаление '' символов\n",
    "    tokens = [i for i in tokens if ( i !='' )]\n",
    "    return tokens"
   ]
  },
  {
   "cell_type": "code",
   "execution_count": 5,
   "metadata": {
    "_uuid": "26ff1731f993db4374f636a927bd3b98b9d87c21"
   },
   "outputs": [],
   "source": [
    "#Производим настройки tf_idf\n",
    "tf_idf2 = TfidfVectorizer(ngram_range=(1, 2), \n",
    "                         token_pattern=('\\w{1,}'),\n",
    "                         tokenizer=tokenize_best,\n",
    "                         analyzer='word',\n",
    "                         max_features=20000,\n",
    "                         sublinear_tf=True,\n",
    "                        )"
   ]
  },
  {
   "cell_type": "markdown",
   "metadata": {
    "_uuid": "be63ee9ec7cd4f204cf135893092f00c67e94e7c"
   },
   "source": [
    "Построим эту модель."
   ]
  },
  {
   "cell_type": "code",
   "execution_count": 12,
   "metadata": {
    "_uuid": "267fa6ad8aa6cc040b20e02d8a02956835274575"
   },
   "outputs": [
    {
     "name": "stdout",
     "output_type": "stream",
     "text": [
      "Wall time: 25min 41s\n"
     ]
    }
   ],
   "source": [
    "%%time\n",
    "tf_idf_model = tf_idf2.fit(np.concatenate([train_sentences, test_sentences]))\n",
    "# 15min 25s"
   ]
  },
  {
   "cell_type": "code",
   "execution_count": 13,
   "metadata": {
    "_uuid": "9ae96fbe4a9dcead5f406f5e1b6bf083ae9a9999"
   },
   "outputs": [
    {
     "name": "stdout",
     "output_type": "stream",
     "text": [
      "Wall time: 25min 50s\n"
     ]
    }
   ],
   "source": [
    "%%time\n",
    "train_features = tf_idf_model.transform(train_sentences)\n",
    "test_features = tf_idf_model.transform(test_sentences)"
   ]
  },
  {
   "cell_type": "code",
   "execution_count": 16,
   "metadata": {},
   "outputs": [],
   "source": [
    "# Сохраним наши признаки\n",
    "pickle.dump(train_features, open(\"train_features.final.ranj2.pickle\", \"wb\"))\n",
    "pickle.dump(test_features, open(\"test_features.final.ranj2.pickle\", \"wb\"))"
   ]
  },
  {
   "cell_type": "markdown",
   "metadata": {
    "_uuid": "2d57b0b99244caa3892d6c61e870f9ca799266b2"
   },
   "source": [
    "# Обучение модели"
   ]
  },
  {
   "cell_type": "code",
   "execution_count": 7,
   "metadata": {},
   "outputs": [],
   "source": [
    "#Считываем ранее обработанные признаки\n",
    "with open('test_features_final_ranj2.pickle', 'rb') as dump_in:\n",
    "    token_test = pickle.load(dump_in)\n",
    "with open('train_features_final_ranj2.pickle', 'rb') as dump_in:\n",
    "    token_train = pickle.load(dump_in)"
   ]
  },
  {
   "cell_type": "code",
   "execution_count": 8,
   "metadata": {
    "_uuid": "241482a2863ecb986a333c1a7f65a4a1c07474e8"
   },
   "outputs": [],
   "source": [
    "lm = LogisticRegression(random_state=42,\n",
    "                        C=10, \n",
    "                        max_iter=100000)"
   ]
  },
  {
   "cell_type": "markdown",
   "metadata": {
    "_uuid": "41fefb2452dcc9d3d08c576ec13d011656a4f29c"
   },
   "source": [
    "## Сеточный поиск лучших параметров"
   ]
  },
  {
   "cell_type": "code",
   "execution_count": 28,
   "metadata": {
    "_uuid": "66cf64caed3df2b99747621e7e5d548467a643d3"
   },
   "outputs": [],
   "source": [
    "lm_params = {'penalty':['l2'],\n",
    "             'C':[0.001, 0.01, 0.1, 1, 2, 5, 10, 20, 100],\n",
    "             'solver':['lbfgs', 'liblinear'],\n",
    "             'tol' : [10, 1, 0.1, 0.01, 0.001, 0.0001, 0.0001]\n",
    "    \n",
    "    \n",
    "}\n",
    "lm_search = GridSearchCV(estimator=lm, \n",
    "                         param_grid=lm_params, \n",
    "                         scoring ='roc_auc', \n",
    "                         cv=StratifiedKFold(10), \n",
    "                         n_jobs=-1,\n",
    "                         verbose=1)"
   ]
  },
  {
   "cell_type": "code",
   "execution_count": 29,
   "metadata": {
    "_uuid": "3a73f8928cc8893c8a308ece581c42fa01fe9b88"
   },
   "outputs": [
    {
     "name": "stdout",
     "output_type": "stream",
     "text": [
      "Fitting 10 folds for each of 126 candidates, totalling 1260 fits\n"
     ]
    },
    {
     "name": "stderr",
     "output_type": "stream",
     "text": [
      "[Parallel(n_jobs=-1)]: Using backend LokyBackend with 8 concurrent workers.\n",
      "[Parallel(n_jobs=-1)]: Done  34 tasks      | elapsed:    3.3s\n",
      "[Parallel(n_jobs=-1)]: Done 184 tasks      | elapsed:    8.8s\n",
      "[Parallel(n_jobs=-1)]: Done 434 tasks      | elapsed:   23.7s\n",
      "[Parallel(n_jobs=-1)]: Done 784 tasks      | elapsed:  1.3min\n",
      "[Parallel(n_jobs=-1)]: Done 1234 tasks      | elapsed:  3.0min\n"
     ]
    },
    {
     "name": "stdout",
     "output_type": "stream",
     "text": [
      "Wall time: 3min 4s\n"
     ]
    },
    {
     "name": "stderr",
     "output_type": "stream",
     "text": [
      "[Parallel(n_jobs=-1)]: Done 1260 out of 1260 | elapsed:  3.1min finished\n"
     ]
    }
   ],
   "source": [
    "%%time\n",
    "lm_search_fitted = lm_search.fit(X=token_train, y=pd.factorize(train.score)[0])"
   ]
  },
  {
   "cell_type": "code",
   "execution_count": 30,
   "metadata": {},
   "outputs": [
    {
     "data": {
      "text/plain": [
       "0.9305058655272753"
      ]
     },
     "execution_count": 30,
     "metadata": {},
     "output_type": "execute_result"
    }
   ],
   "source": [
    "#лучший результат за всё обучение\n",
    "lm_search_fitted.best_score_"
   ]
  },
  {
   "cell_type": "code",
   "execution_count": 31,
   "metadata": {},
   "outputs": [
    {
     "data": {
      "text/plain": [
       "LogisticRegression(C=2, class_weight=None, dual=False, fit_intercept=True,\n",
       "          intercept_scaling=1, max_iter=100000, multi_class='warn',\n",
       "          n_jobs=None, penalty='l2', random_state=42, solver='liblinear',\n",
       "          tol=0.1, verbose=0, warm_start=False)"
      ]
     },
     "execution_count": 31,
     "metadata": {},
     "output_type": "execute_result"
    }
   ],
   "source": [
    "#Параметры модели\n",
    "lm_search_fitted.best_estimator_"
   ]
  },
  {
   "cell_type": "code",
   "execution_count": 20,
   "metadata": {},
   "outputs": [],
   "source": [
    "#Делаем предсказания\n",
    "predicts = lm_search_fitted.best_estimator_.predict_proba(token_test)[:, 0]"
   ]
  },
  {
   "cell_type": "code",
   "execution_count": 22,
   "metadata": {},
   "outputs": [
    {
     "data": {
      "text/html": [
       "<div>\n",
       "<style scoped>\n",
       "    .dataframe tbody tr th:only-of-type {\n",
       "        vertical-align: middle;\n",
       "    }\n",
       "\n",
       "    .dataframe tbody tr th {\n",
       "        vertical-align: top;\n",
       "    }\n",
       "\n",
       "    .dataframe thead th {\n",
       "        text-align: right;\n",
       "    }\n",
       "</style>\n",
       "<table border=\"1\" class=\"dataframe\">\n",
       "  <thead>\n",
       "    <tr style=\"text-align: right;\">\n",
       "      <th></th>\n",
       "      <th>index</th>\n",
       "      <th>score</th>\n",
       "    </tr>\n",
       "  </thead>\n",
       "  <tbody>\n",
       "    <tr>\n",
       "      <th>0</th>\n",
       "      <td>0</td>\n",
       "      <td>0.986108</td>\n",
       "    </tr>\n",
       "    <tr>\n",
       "      <th>1</th>\n",
       "      <td>1</td>\n",
       "      <td>0.876189</td>\n",
       "    </tr>\n",
       "    <tr>\n",
       "      <th>2</th>\n",
       "      <td>2</td>\n",
       "      <td>0.751644</td>\n",
       "    </tr>\n",
       "    <tr>\n",
       "      <th>3</th>\n",
       "      <td>3</td>\n",
       "      <td>0.976215</td>\n",
       "    </tr>\n",
       "    <tr>\n",
       "      <th>4</th>\n",
       "      <td>4</td>\n",
       "      <td>0.705782</td>\n",
       "    </tr>\n",
       "  </tbody>\n",
       "</table>\n",
       "</div>"
      ],
      "text/plain": [
       "   index     score\n",
       "0      0  0.986108\n",
       "1      1  0.876189\n",
       "2      2  0.751644\n",
       "3      3  0.976215\n",
       "4      4  0.705782"
      ]
     },
     "execution_count": 22,
     "metadata": {},
     "output_type": "execute_result"
    }
   ],
   "source": [
    "#Сохраняем результаты для отправки на Kaggle\n",
    "sub = pd.DataFrame({'index': range(0, len(predicts)),\n",
    "                    'score':predicts})\n",
    "sub.to_csv('sub111.csv', index=False)\n",
    "sub.head()"
   ]
  }
 ],
 "metadata": {
  "kernelspec": {
   "display_name": "Python 3",
   "language": "python",
   "name": "python3"
  },
  "language_info": {
   "codemirror_mode": {
    "name": "ipython",
    "version": 3
   },
   "file_extension": ".py",
   "mimetype": "text/x-python",
   "name": "python",
   "nbconvert_exporter": "python",
   "pygments_lexer": "ipython3",
   "version": "3.6.8"
  }
 },
 "nbformat": 4,
 "nbformat_minor": 1
}
